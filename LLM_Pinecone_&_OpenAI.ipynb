{
  "nbformat": 4,
  "nbformat_minor": 0,
  "metadata": {
    "colab": {
      "provenance": [],
      "authorship_tag": "ABX9TyOTxX3HnKoo8sZ2uBQRFkEB",
      "include_colab_link": true
    },
    "kernelspec": {
      "name": "python3",
      "display_name": "Python 3"
    },
    "language_info": {
      "name": "python"
    }
  },
  "cells": [
    {
      "cell_type": "markdown",
      "metadata": {
        "id": "view-in-github",
        "colab_type": "text"
      },
      "source": [
        "<a href=\"https://colab.research.google.com/github/parthdasawant/LLM-Pinecone-OpenAI/blob/main/LLM_Pinecone_%26_OpenAI.ipynb\" target=\"_parent\"><img src=\"https://colab.research.google.com/assets/colab-badge.svg\" alt=\"Open In Colab\"/></a>"
      ]
    },
    {
      "cell_type": "code",
      "source": [
        "from google.colab import drive\n",
        "drive.mount('/content/drive')"
      ],
      "metadata": {
        "colab": {
          "base_uri": "https://localhost:8080/"
        },
        "id": "7RaH3MgvoBfM",
        "outputId": "1863e6c3-4986-40c0-9188-df76ed39be9a"
      },
      "execution_count": 1,
      "outputs": [
        {
          "output_type": "stream",
          "name": "stdout",
          "text": [
            "Drive already mounted at /content/drive; to attempt to forcibly remount, call drive.mount(\"/content/drive\", force_remount=True).\n"
          ]
        }
      ]
    },
    {
      "cell_type": "code",
      "source": [
        "!pip install -r /content/drive/MyDrive/LLM/requirements.txt -q\n"
      ],
      "metadata": {
        "id": "ZFLNSujToyiv"
      },
      "execution_count": 2,
      "outputs": []
    },
    {
      "cell_type": "code",
      "source": [
        "!pip show langchain"
      ],
      "metadata": {
        "colab": {
          "base_uri": "https://localhost:8080/"
        },
        "id": "357b6nJVo45W",
        "outputId": "e7d4f969-5326-4869-a12e-efa82e09beb9"
      },
      "execution_count": 3,
      "outputs": [
        {
          "output_type": "stream",
          "name": "stdout",
          "text": [
            "Name: langchain\n",
            "Version: 0.0.321\n",
            "Summary: Building applications with LLMs through composability\n",
            "Home-page: https://github.com/langchain-ai/langchain\n",
            "Author: \n",
            "Author-email: \n",
            "License: MIT\n",
            "Location: /usr/local/lib/python3.10/dist-packages\n",
            "Requires: aiohttp, anyio, async-timeout, dataclasses-json, jsonpatch, langsmith, numpy, pydantic, PyYAML, requests, SQLAlchemy, tenacity\n",
            "Required-by: \n"
          ]
        }
      ]
    },
    {
      "cell_type": "code",
      "source": [
        "import os\n",
        "from dotenv import load_dotenv, find_dotenv\n",
        "\n",
        "load_dotenv(find_dotenv())\n",
        "\n",
        "print(os.environ[\"PINECONE_ENV\"])"
      ],
      "metadata": {
        "colab": {
          "base_uri": "https://localhost:8080/"
        },
        "id": "ug371C7ApSKm",
        "outputId": "1b65d367-4c63-4bf2-a139-a9ed85c4ad0c"
      },
      "execution_count": 4,
      "outputs": [
        {
          "output_type": "stream",
          "name": "stdout",
          "text": [
            "gcp-starter\n"
          ]
        }
      ]
    },
    {
      "cell_type": "code",
      "source": [
        "from langchain.llms import OpenAI\n",
        "llm = OpenAI(model_name = \"text-davinci-003\", temperature=0.7)\n",
        "print(llm)"
      ],
      "metadata": {
        "colab": {
          "base_uri": "https://localhost:8080/"
        },
        "id": "9CXqnQpTtg4d",
        "outputId": "f02fe763-609e-44d4-ef2d-be759655d082"
      },
      "execution_count": 5,
      "outputs": [
        {
          "output_type": "stream",
          "name": "stdout",
          "text": [
            "\u001b[1mOpenAI\u001b[0m\n",
            "Params: {'model_name': 'text-davinci-003', 'temperature': 0.7, 'max_tokens': 256, 'top_p': 1, 'frequency_penalty': 0, 'presence_penalty': 0, 'n': 1, 'request_timeout': None, 'logit_bias': {}}\n"
          ]
        }
      ]
    },
    {
      "cell_type": "code",
      "source": [
        "output = llm('exlpain quatum mechanics in one sentence')\n",
        "print(output)"
      ],
      "metadata": {
        "colab": {
          "base_uri": "https://localhost:8080/"
        },
        "id": "o7aNUNoMt-CR",
        "outputId": "be82d4c1-de35-4ad0-9be5-9b6dc6d6af5f"
      },
      "execution_count": 7,
      "outputs": [
        {
          "output_type": "stream",
          "name": "stdout",
          "text": [
            "\n",
            "\n",
            "Quantum mechanics is a branch of physics that describes the behavior of matter and energy on the atomic and subatomic level.\n"
          ]
        }
      ]
    },
    {
      "cell_type": "code",
      "source": [
        "print(llm.get_num_tokens('exlpain quatum mechanics in one sentence'))"
      ],
      "metadata": {
        "colab": {
          "base_uri": "https://localhost:8080/"
        },
        "id": "kFH3yRDgyYQX",
        "outputId": "17f8d580-4369-494b-8b95-dd987320dc85"
      },
      "execution_count": 8,
      "outputs": [
        {
          "output_type": "stream",
          "name": "stdout",
          "text": [
            "9\n"
          ]
        }
      ]
    },
    {
      "cell_type": "code",
      "source": [
        "output = llm.generate(['... is the capital of India.',\n",
        "                       'What is the formula of the area of a circle?',\n",
        "                       'Who has won all ICC trophies in him captaincy?'])\n",
        "print(output)"
      ],
      "metadata": {
        "colab": {
          "base_uri": "https://localhost:8080/"
        },
        "id": "-sGPR18azR8F",
        "outputId": "64653fe4-c635-4fc8-d0e4-29e43e7f4b69"
      },
      "execution_count": 9,
      "outputs": [
        {
          "output_type": "stream",
          "name": "stdout",
          "text": [
            "generations=[[Generation(text='\\n\\nNew Delhi is the capital of India.', generation_info={'finish_reason': 'stop', 'logprobs': None})], [Generation(text='\\n\\nThe formula for the area of a circle is A = π × r2, where r is the radius of the circle.', generation_info={'finish_reason': 'stop', 'logprobs': None})], [Generation(text='\\n\\nMS Dhoni has won all the ICC trophies in his captaincy. He won the 2007 ICC World Twenty20, the 2010 and 2016 ICC World Twenty20, the 2011 ICC Cricket World Cup, and the 2013 ICC Champions Trophy.', generation_info={'finish_reason': 'stop', 'logprobs': None})]] llm_output={'token_usage': {'completion_tokens': 86, 'total_tokens': 115, 'prompt_tokens': 29}, 'model_name': 'text-davinci-003'} run=[RunInfo(run_id=UUID('cef9a804-a0c9-4f91-a886-8ed795ec9548')), RunInfo(run_id=UUID('a338b882-97e9-4c30-88e8-e9b237e66930')), RunInfo(run_id=UUID('37ea016b-96e2-481b-805c-b7eacf258b37'))]\n"
          ]
        }
      ]
    },
    {
      "cell_type": "code",
      "source": [
        "print(output.generations[2][0].text)"
      ],
      "metadata": {
        "colab": {
          "base_uri": "https://localhost:8080/"
        },
        "id": "bAH8kLOoz0HV",
        "outputId": "488c89a9-dfdf-4c65-fee3-bd86a65a7ea1"
      },
      "execution_count": 14,
      "outputs": [
        {
          "output_type": "stream",
          "name": "stdout",
          "text": [
            "\n",
            "\n",
            "MS Dhoni has won all the ICC trophies in his captaincy. He won the 2007 ICC World Twenty20, the 2010 and 2016 ICC World Twenty20, the 2011 ICC Cricket World Cup, and the 2013 ICC Champions Trophy.\n"
          ]
        }
      ]
    },
    {
      "cell_type": "code",
      "source": [
        "output = llm.generate(['Write an orignal tagline for burger restaurant'] * 3)"
      ],
      "metadata": {
        "id": "0rsI6Ufy0HxZ"
      },
      "execution_count": 15,
      "outputs": []
    },
    {
      "cell_type": "code",
      "source": [
        "for o in output.generations:\n",
        "  print(o[0].text)"
      ],
      "metadata": {
        "colab": {
          "base_uri": "https://localhost:8080/"
        },
        "id": "KUm31Dqr0UGX",
        "outputId": "eb937fc9-26c6-4e30-97b0-bfc282b4bcd2"
      },
      "execution_count": 16,
      "outputs": [
        {
          "output_type": "stream",
          "name": "stdout",
          "text": [
            "\n",
            "\n",
            "\"Taste the Difference: Fresh Burgers, Freshly Crafted With Love!\"\n",
            "\n",
            "\n",
            "\"Taste the Juiciness of Our Burgers - Bite Into Deliciousness!\"\n",
            "\n",
            "\n",
            "\"Satisfy Your Craving - Bite Into Our Delicious Burgers!\"\n"
          ]
        }
      ]
    }
  ]
}