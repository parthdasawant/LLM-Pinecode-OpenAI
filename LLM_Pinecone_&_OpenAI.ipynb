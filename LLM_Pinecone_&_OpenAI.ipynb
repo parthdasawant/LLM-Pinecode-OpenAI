{
  "nbformat": 4,
  "nbformat_minor": 0,
  "metadata": {
    "colab": {
      "provenance": [],
      "authorship_tag": "ABX9TyOvqTlLN9yKEodXxwxcPYBs",
      "include_colab_link": true
    },
    "kernelspec": {
      "name": "python3",
      "display_name": "Python 3"
    },
    "language_info": {
      "name": "python"
    }
  },
  "cells": [
    {
      "cell_type": "markdown",
      "metadata": {
        "id": "view-in-github",
        "colab_type": "text"
      },
      "source": [
        "<a href=\"https://colab.research.google.com/github/parthdasawant/LLM-Pinecone-OpenAI/blob/main/LLM_Pinecone_%26_OpenAI.ipynb\" target=\"_parent\"><img src=\"https://colab.research.google.com/assets/colab-badge.svg\" alt=\"Open In Colab\"/></a>"
      ]
    },
    {
      "cell_type": "markdown",
      "source": [
        "#### Setup"
      ],
      "metadata": {
        "id": "RKoMAC5BvbZg"
      }
    },
    {
      "cell_type": "code",
      "source": [
        "from google.colab import drive\n",
        "drive.mount('/content/drive')"
      ],
      "metadata": {
        "colab": {
          "base_uri": "https://localhost:8080/"
        },
        "id": "7RaH3MgvoBfM",
        "outputId": "90208ae6-6ef9-4c51-b602-c089b4401855"
      },
      "execution_count": 61,
      "outputs": [
        {
          "output_type": "stream",
          "name": "stdout",
          "text": [
            "Drive already mounted at /content/drive; to attempt to forcibly remount, call drive.mount(\"/content/drive\", force_remount=True).\n"
          ]
        }
      ]
    },
    {
      "cell_type": "code",
      "source": [
        "!pip install -r /content/drive/MyDrive/LLM/requirements.txt -q"
      ],
      "metadata": {
        "id": "ZFLNSujToyiv"
      },
      "execution_count": 62,
      "outputs": []
    },
    {
      "cell_type": "code",
      "source": [
        "!cp /content/drive/MyDrive/LLM/env /content/"
      ],
      "metadata": {
        "id": "357b6nJVo45W"
      },
      "execution_count": 83,
      "outputs": []
    },
    {
      "cell_type": "code",
      "source": [
        "import os\n",
        "\n",
        "old_name = r\"/content/env\"\n",
        "new_name = r\"/content/.env\"\n",
        "os.rename(old_name, new_name)"
      ],
      "metadata": {
        "id": "Ww4uefBgC8rv"
      },
      "execution_count": 84,
      "outputs": []
    },
    {
      "cell_type": "code",
      "source": [
        "from dotenv import load_dotenv, find_dotenv\n",
        "\n",
        "load_dotenv(find_dotenv())\n",
        "\n",
        "print(os.environ[\"PINECONE_ENV\"])"
      ],
      "metadata": {
        "colab": {
          "base_uri": "https://localhost:8080/"
        },
        "id": "ug371C7ApSKm",
        "outputId": "751c19b2-9ce1-43bc-bdad-0c1a4b56d17a"
      },
      "execution_count": 65,
      "outputs": [
        {
          "output_type": "stream",
          "name": "stdout",
          "text": [
            "gcp-starter\n"
          ]
        }
      ]
    },
    {
      "cell_type": "markdown",
      "source": [
        "#### Getting Started"
      ],
      "metadata": {
        "id": "CB7Y_xVhvjUG"
      }
    },
    {
      "cell_type": "code",
      "source": [
        "from langchain.llms import OpenAI\n",
        "llm = OpenAI(model_name = \"text-davinci-003\", temperature=0.7)\n",
        "print(llm)"
      ],
      "metadata": {
        "colab": {
          "base_uri": "https://localhost:8080/"
        },
        "id": "9CXqnQpTtg4d",
        "outputId": "be589eb7-0ec4-49c8-a673-72653c8fa151"
      },
      "execution_count": 66,
      "outputs": [
        {
          "output_type": "stream",
          "name": "stdout",
          "text": [
            "\u001b[1mOpenAI\u001b[0m\n",
            "Params: {'model_name': 'text-davinci-003', 'temperature': 0.7, 'max_tokens': 256, 'top_p': 1, 'frequency_penalty': 0, 'presence_penalty': 0, 'n': 1, 'request_timeout': None, 'logit_bias': {}}\n"
          ]
        }
      ]
    },
    {
      "cell_type": "code",
      "source": [
        "output = llm('exlpain quatum mechanics in one sentence')\n",
        "print(output)"
      ],
      "metadata": {
        "colab": {
          "base_uri": "https://localhost:8080/"
        },
        "id": "o7aNUNoMt-CR",
        "outputId": "9a43f27c-e41f-4967-b396-2b154794adda"
      },
      "execution_count": 67,
      "outputs": [
        {
          "output_type": "stream",
          "name": "stdout",
          "text": [
            "\n",
            "\n",
            "Quantum mechanics is the branch of physics that describes the behavior of matter and energy at the subatomic scale.\n"
          ]
        }
      ]
    },
    {
      "cell_type": "code",
      "source": [
        "print(llm.get_num_tokens('exlpain quatum mechanics in one sentence'))"
      ],
      "metadata": {
        "colab": {
          "base_uri": "https://localhost:8080/"
        },
        "id": "kFH3yRDgyYQX",
        "outputId": "8620fc87-0dfe-47eb-a317-0481aa220b22"
      },
      "execution_count": 68,
      "outputs": [
        {
          "output_type": "stream",
          "name": "stdout",
          "text": [
            "9\n"
          ]
        }
      ]
    },
    {
      "cell_type": "code",
      "source": [
        "output = llm.generate(['... is the capital of India.',\n",
        "                       'What is the formula of the area of a circle?',\n",
        "                       'Who has won all ICC trophies in him captaincy?'])\n",
        "print(output)"
      ],
      "metadata": {
        "colab": {
          "base_uri": "https://localhost:8080/"
        },
        "id": "-sGPR18azR8F",
        "outputId": "1455503d-61bd-44f7-ee1c-7e3f491eea34"
      },
      "execution_count": 69,
      "outputs": [
        {
          "output_type": "stream",
          "name": "stdout",
          "text": [
            "generations=[[Generation(text='\\n\\nNew Delhi is the capital of India.', generation_info={'finish_reason': 'stop', 'logprobs': None})], [Generation(text='\\n\\nArea of a circle = π x (radius)^2 \\n\\nor \\n\\nArea of a circle = π x (diameter/2)^2', generation_info={'finish_reason': 'stop', 'logprobs': None})], [Generation(text='\\n\\nMS Dhoni has won all ICC trophies in his captaincy, including the 2007 ICC World T20, the 2011 ICC ODI World Cup, and the 2013 ICC Champions Trophy.', generation_info={'finish_reason': 'stop', 'logprobs': None})]] llm_output={'token_usage': {'total_tokens': 115, 'completion_tokens': 86, 'prompt_tokens': 29}, 'model_name': 'text-davinci-003'} run=[RunInfo(run_id=UUID('b5fa1f16-438c-4f82-8295-49ac6e63f74d')), RunInfo(run_id=UUID('bb74a9bd-cd13-49e2-809e-81d496aa1279')), RunInfo(run_id=UUID('09580f4b-c177-4f82-aef2-60a8fb2b1b60'))]\n"
          ]
        }
      ]
    },
    {
      "cell_type": "code",
      "source": [
        "print(output.generations[2][0].text)"
      ],
      "metadata": {
        "colab": {
          "base_uri": "https://localhost:8080/"
        },
        "id": "bAH8kLOoz0HV",
        "outputId": "3badc68b-2ab7-4f8a-f1a5-980e08c9f860"
      },
      "execution_count": 70,
      "outputs": [
        {
          "output_type": "stream",
          "name": "stdout",
          "text": [
            "\n",
            "\n",
            "MS Dhoni has won all ICC trophies in his captaincy, including the 2007 ICC World T20, the 2011 ICC ODI World Cup, and the 2013 ICC Champions Trophy.\n"
          ]
        }
      ]
    },
    {
      "cell_type": "code",
      "source": [
        "output = llm.generate(['Write an orignal tagline for burger restaurant'] * 3)"
      ],
      "metadata": {
        "id": "0rsI6Ufy0HxZ"
      },
      "execution_count": 71,
      "outputs": []
    },
    {
      "cell_type": "code",
      "source": [
        "for o in output.generations:\n",
        "  print(o[0].text)"
      ],
      "metadata": {
        "colab": {
          "base_uri": "https://localhost:8080/"
        },
        "id": "KUm31Dqr0UGX",
        "outputId": "07c253bf-6a01-4d91-b1cd-cc4e4a63f7f6"
      },
      "execution_count": 72,
      "outputs": [
        {
          "output_type": "stream",
          "name": "stdout",
          "text": [
            "\n",
            "\n",
            "\"Sink your teeth into our delicious burgers - the taste is guaranteed to satisfy!\"\n",
            "\n",
            "\n",
            "\"Sink your teeth into the tastiest burgers around!\"\n",
            "\n",
            "\n",
            "\"Tastiest Burgers on the Block - Our Burgers are a Real Treat!\"\n"
          ]
        }
      ]
    },
    {
      "cell_type": "markdown",
      "source": [
        "#### ChatModels: *ChatGPT* 3.5 turbo"
      ],
      "metadata": {
        "id": "q2KavgHbg5jS"
      }
    },
    {
      "cell_type": "code",
      "source": [
        "from langchain.schema import(\n",
        "    AIMessage,\n",
        "    HumanMessage,\n",
        "    SystemMessage\n",
        ")\n",
        "from langchain.chat_models import ChatOpenAI"
      ],
      "metadata": {
        "id": "JE-GjDdEg_iH"
      },
      "execution_count": 73,
      "outputs": []
    },
    {
      "cell_type": "code",
      "source": [
        "chat = ChatOpenAI(model_name='gpt-3.5-turbo', temperature = 0.5, max_tokens=1024)\n",
        "messages = [\n",
        "    SystemMessage(content='You are a physicist and respond only in Marathi.'),\n",
        "    HumanMessage(content='explain quantum mechanics in one sentence')\n",
        "]\n",
        "output = chat(messages)"
      ],
      "metadata": {
        "id": "EfC46MxehN6i"
      },
      "execution_count": 74,
      "outputs": []
    },
    {
      "cell_type": "code",
      "source": [
        "print(output)"
      ],
      "metadata": {
        "colab": {
          "base_uri": "https://localhost:8080/"
        },
        "id": "TJWqnNkxh8lv",
        "outputId": "2e2616c2-e3c4-4ed4-bdaf-e24188fbf7db"
      },
      "execution_count": 75,
      "outputs": [
        {
          "output_type": "stream",
          "name": "stdout",
          "text": [
            "content='क्वांटम मेकॅनिक्स हा विज्ञान आहे, ज्यामुळे अणुंच्या व्यवहाराच्या नियमांची व्याख्या करते आणि अणुंच्या स्थिती, गती आणि अवस्थेच्या आधारे वस्त्र, चालना, आणि शक्तीच्या वर्णन करते.'\n"
          ]
        }
      ]
    },
    {
      "cell_type": "markdown",
      "source": [
        "#### Prompt Templates"
      ],
      "metadata": {
        "id": "vYgKrv9Mi4Qz"
      }
    },
    {
      "cell_type": "code",
      "source": [
        "from langchain import PromptTemplate"
      ],
      "metadata": {
        "id": "VKpRdB4Ai95R"
      },
      "execution_count": 76,
      "outputs": []
    },
    {
      "cell_type": "code",
      "source": [
        "template = '''You are an expericed virologist.\n",
        "Write a few sentences about the following {virus} in {language}.'''\n",
        "prompt = PromptTemplate(\n",
        "    input_variables=['virus, language'],\n",
        "    template=template\n",
        ")\n",
        "print(prompt)"
      ],
      "metadata": {
        "colab": {
          "base_uri": "https://localhost:8080/"
        },
        "id": "g9DNdMyzjCHH",
        "outputId": "bba50a25-566b-469b-d3ce-45f63c94c50e"
      },
      "execution_count": 77,
      "outputs": [
        {
          "output_type": "stream",
          "name": "stdout",
          "text": [
            "input_variables=['language', 'virus'] template='You are an expericed virologist.\\nWrite a few sentences about the following {virus} in {language}.'\n"
          ]
        }
      ]
    },
    {
      "cell_type": "code",
      "source": [
        "from langchain.llms import OpenAI\n",
        "llm = OpenAI(model_name='text-davinci-003', temperature=0.7)\n",
        "output = llm(prompt.format(virus='ebola', language='Marathi'))\n",
        "print(output)"
      ],
      "metadata": {
        "colab": {
          "base_uri": "https://localhost:8080/"
        },
        "id": "5c7Oee7aj77l",
        "outputId": "41d74449-470b-4e22-f3a3-b847b91f51d0"
      },
      "execution_count": 78,
      "outputs": [
        {
          "output_type": "stream",
          "name": "stdout",
          "text": [
            "\n",
            "\n",
            "एबोला एक गंभीर स्वास्थ्यसंवेदना आहे जो एक आम आणि दुरुस्त व्हायरस आहे. यामुळे ते आपल्याला गंभीर मोठे आणि आता आलेले व्हायरसचे संक्रमण करते. त्यामुळे आपल्याला अने\n"
          ]
        }
      ]
    },
    {
      "cell_type": "markdown",
      "source": [
        "#### Simple Chains"
      ],
      "metadata": {
        "id": "E26IcIWhlG8k"
      }
    },
    {
      "cell_type": "code",
      "source": [
        "from langchain.chat_models import ChatOpenAI\n",
        "from langchain import PromptTemplate\n",
        "from langchain.chains import LLMChain\n",
        "\n",
        "llm = ChatOpenAI(model_name='gpt-3.5-turbo', temperature=0.5)\n",
        "\n",
        "template = '''You are an expericed virologist.\n",
        "Write a few sentences about the following {virus} in {language}.'''\n",
        "\n",
        "prompt = PromptTemplate(\n",
        "    input_variables=['virus, language'],\n",
        "    template=template\n",
        ")\n",
        "\n",
        "chain = LLMChain(llm=llm, prompt=prompt)\n",
        "output = chain.run({'virus': 'HSV', 'language': 'Marathi'})"
      ],
      "metadata": {
        "id": "dZlbPznAlKfU"
      },
      "execution_count": 79,
      "outputs": []
    },
    {
      "cell_type": "code",
      "source": [
        "print(output)"
      ],
      "metadata": {
        "colab": {
          "base_uri": "https://localhost:8080/"
        },
        "id": "DXkR7HVGlMEb",
        "outputId": "2c6a9994-b1fb-4839-cba0-c9bb358ac614"
      },
      "execution_count": 80,
      "outputs": [
        {
          "output_type": "stream",
          "name": "stdout",
          "text": [
            "HSV (Herpes Simplex Virus) हे एक व्हायरस आहे ज्यामुळे हर्पीज रोग होतो. ह्या व्हायरसच्या दोन प्रकारांमध्ये पहिला प्रकार HSV-1 आणि दुसरा प्रकार HSV-2 आहे. ह्या व्हायरसचे प्रसार संपर्काच्या माध्यमाने होते, जसे की संभोग, आजाराच्या आणि आपातकालीन ज्या दिवशी आपण व्हायरससह संपर्क साधला आहे. ह्या व्हायरसच्या लक्षणे ज्वर, नाकाचा वाढ, खोकल्याचा उगवणे, खोकल्याचा दुखणे, त्वचेवर दाग आणि दुखणे आणि त्वचेवर छाले असे असू शकतात.\n"
          ]
        }
      ]
    },
    {
      "cell_type": "markdown",
      "source": [
        "#### Sequential Chains"
      ],
      "metadata": {
        "id": "q9gwu_R7lMpb"
      }
    },
    {
      "cell_type": "code",
      "source": [
        "from langchain.chat_models import ChatOpenAI\n",
        "from langchain.llms import OpenAI\n",
        "from langchain import PromptTemplate\n",
        "from langchain.chains import SimpleSequentialChain\n",
        "\n",
        "llm1 = OpenAI(model_name='text-davinci-003', temperature=0.7, max_tokens=1024)\n",
        "prompt1 = PromptTemplate(\n",
        "    input_variables=['concept'],\n",
        "    template='''You are an expericed scientist and Python programmer.\n",
        "    Write a function that implements the concept of {concept}'''\n",
        ")\n",
        "chain1 = LLMChain(llm=llm1, prompt=prompt1)\n",
        "\n",
        "llm2 = ChatOpenAI(model_name='gpt-3.5-turbo', temperature=1.2)\n",
        "prompt2 = PromptTemplate(\n",
        "    input_variables=['function'],\n",
        "    template='Given the python function {function}, describe it as detatiled as possible.'\n",
        ")\n",
        "chain2 = LLMChain(llm=llm2, prompt=prompt2)\n",
        "\n",
        "overall_chian = SimpleSequentialChain(chains=[chain1, chain2], verbose=True)\n",
        "output = overall_chian.run('Linear Regression')\n"
      ],
      "metadata": {
        "colab": {
          "base_uri": "https://localhost:8080/"
        },
        "id": "JL74yShtlMy-",
        "outputId": "dad410fd-2558-435d-e171-1483e31a0bf6"
      },
      "execution_count": 81,
      "outputs": [
        {
          "output_type": "stream",
          "name": "stdout",
          "text": [
            "\n",
            "\n",
            "\u001b[1m> Entering new SimpleSequentialChain chain...\u001b[0m\n",
            "\u001b[36;1m\u001b[1;3m.\n",
            "\n",
            "def linear_regression(x_values, y_values):\n",
            "    # Calculate the number of values\n",
            "    n = len(x_values)\n",
            " \n",
            "    # Calculate the sum of the x-values\n",
            "    sum_x = sum(x_values)\n",
            " \n",
            "    # Calculate the sum of the y-values\n",
            "    sum_y = sum(y_values)\n",
            " \n",
            "    # Calculate the sum of the x-squared values\n",
            "    sum_x_squared = sum([x**2 for x in x_values])\n",
            " \n",
            "    # Calculate the sum of the x*y values\n",
            "    sum_xy = sum([x * y for (x, y) in zip(x_values, y_values)])\n",
            " \n",
            "    # Calculate the linear regression slope\n",
            "    slope = (n * sum_xy - sum_x * sum_y) / (n * sum_x_squared - sum_x**2)\n",
            " \n",
            "    # Calculate the linear regression intercept\n",
            "    intercept = (sum_y - slope * sum_x) / n\n",
            " \n",
            "    return slope, intercept\u001b[0m\n",
            "\u001b[33;1m\u001b[1;3mThe given python function `linear_regression` calculates the slope and intercept for a linear regression model using a list of x-values and y-values.\n",
            "\n",
            "Here is a detailed description of the function:\n",
            "\n",
            "1. The function takes two input parameters `x_values` and `y_values`, which represent the lists of x and y values respectively.\n",
            "\n",
            "2. It starts by calculating the number of values, `n`, which is the length (number of elements) of the x_values list.\n",
            "\n",
            "3. It calculates the sum of the x-values by using the `sum` function on the x_values list and assigns it to the variable `sum_x`.\n",
            "\n",
            "4. Similarly, it calculates the sum of the y-values using the `sum` function on the y_values list and assigns it to the variable `sum_y`.\n",
            "\n",
            "5. Next, it calculates the sum of the squared x-values by using a list comprehension to square each element in the x_values list, then using the `sum` function on the resulting list. The sum of squared x-values is assigned to the variable `sum_x_squared`.\n",
            "\n",
            "6. It calculates the sum of the product of each x and y pair by using the `zip` function to pair corresponding elements from the x_values and y_values lists, then using a list comprehension to multiply each pair, and finally using the `sum` function on the resulting list. The sum of x*y values is assigned to the variable `sum_xy`.\n",
            "\n",
            "7. Then, it calculates the slope of the linear regression line using the formula:\n",
            "    - slope = (n * sum_xy - sum_x * sum_y) / (n * sum_x_squared - sum_x**2)\n",
            "    It uses the calculated values `n`, `sum_xy`, `sum_x` and `sum_x_squared` to calculate the slope and assigns it to the variable `slope`.\n",
            "\n",
            "8. After that, it calculates the intercept of the linear regression line using the formula:\n",
            "    - intercept = (sum_y - slope * sum_x) / n\n",
            "    It uses the calculated values `sum_y`, `slope`, `sum_x`, and `n` to calculate the intercept, which is assigned to the variable `intercept`.\n",
            "\n",
            "9. Finally, the function returns the calculated slope, intercept as a tuple `(slope, intercept)`. These values represent the parameters of the linear regression line that can be used to model the relationship between the x and y values.\n",
            "\n",
            "Overall, the `linear_regression` function takes a set of x and y values and calculates the best fitting linear regression line using the least squares approach. The resulting slope and intercept can be used to make predictions on new data points or evaluate the relationship between the variables.\u001b[0m\n",
            "\n",
            "\u001b[1m> Finished chain.\u001b[0m\n"
          ]
        }
      ]
    }
  ]
}