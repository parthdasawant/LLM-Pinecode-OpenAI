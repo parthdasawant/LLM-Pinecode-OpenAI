{
  "nbformat": 4,
  "nbformat_minor": 0,
  "metadata": {
    "colab": {
      "provenance": [],
      "authorship_tag": "ABX9TyOzTE3DWZDQ4UDwGJPX+Y9t",
      "include_colab_link": true
    },
    "kernelspec": {
      "name": "python3",
      "display_name": "Python 3"
    },
    "language_info": {
      "name": "python"
    }
  },
  "cells": [
    {
      "cell_type": "markdown",
      "metadata": {
        "id": "view-in-github",
        "colab_type": "text"
      },
      "source": [
        "<a href=\"https://colab.research.google.com/github/parthdasawant/LLM-Pinecone-OpenAI/blob/main/QnA_app_for_custom_doc.ipynb\" target=\"_parent\"><img src=\"https://colab.research.google.com/assets/colab-badge.svg\" alt=\"Open In Colab\"/></a>"
      ]
    },
    {
      "cell_type": "markdown",
      "source": [
        "#### Setup"
      ],
      "metadata": {
        "id": "RKoMAC5BvbZg"
      }
    },
    {
      "cell_type": "code",
      "source": [
        "from google.colab import drive\n",
        "drive.mount('/content/drive')"
      ],
      "metadata": {
        "colab": {
          "base_uri": "https://localhost:8080/"
        },
        "id": "7RaH3MgvoBfM",
        "outputId": "822f0270-e25b-49f9-85dc-ad704c6446a6"
      },
      "execution_count": 2,
      "outputs": [
        {
          "output_type": "stream",
          "name": "stdout",
          "text": [
            "Mounted at /content/drive\n"
          ]
        }
      ]
    },
    {
      "cell_type": "code",
      "source": [
        "!pip install -r /content/drive/MyDrive/LLM/requirements.txt -q"
      ],
      "metadata": {
        "id": "ZFLNSujToyiv",
        "colab": {
          "base_uri": "https://localhost:8080/"
        },
        "outputId": "51190617-78d0-4a52-8494-7e383a15a932"
      },
      "execution_count": 3,
      "outputs": [
        {
          "output_type": "stream",
          "name": "stdout",
          "text": [
            "\u001b[2K     \u001b[90m━━━━━━━━━━━━━━━━━━━━━━━━━━━━━━━━━━━━━━━━\u001b[0m \u001b[32m77.0/77.0 kB\u001b[0m \u001b[31m2.5 MB/s\u001b[0m eta \u001b[36m0:00:00\u001b[0m\n",
            "\u001b[2K     \u001b[90m━━━━━━━━━━━━━━━━━━━━━━━━━━━━━━━━━━━━━━━━\u001b[0m \u001b[32m1.9/1.9 MB\u001b[0m \u001b[31m12.2 MB/s\u001b[0m eta \u001b[36m0:00:00\u001b[0m\n",
            "\u001b[2K     \u001b[90m━━━━━━━━━━━━━━━━━━━━━━━━━━━━━━━━━━━━━━━━\u001b[0m \u001b[32m179.4/179.4 kB\u001b[0m \u001b[31m11.2 MB/s\u001b[0m eta \u001b[36m0:00:00\u001b[0m\n",
            "\u001b[2K     \u001b[90m━━━━━━━━━━━━━━━━━━━━━━━━━━━━━━━━━━━━━━━━\u001b[0m \u001b[32m2.0/2.0 MB\u001b[0m \u001b[31m22.8 MB/s\u001b[0m eta \u001b[36m0:00:00\u001b[0m\n",
            "\u001b[2K     \u001b[90m━━━━━━━━━━━━━━━━━━━━━━━━━━━━━━━━━━━━━━━━\u001b[0m \u001b[32m43.3/43.3 kB\u001b[0m \u001b[31m4.7 MB/s\u001b[0m eta \u001b[36m0:00:00\u001b[0m\n",
            "\u001b[2K     \u001b[90m━━━━━━━━━━━━━━━━━━━━━━━━━━━━━━━━━━━━━━━━\u001b[0m \u001b[32m62.5/62.5 kB\u001b[0m \u001b[31m6.5 MB/s\u001b[0m eta \u001b[36m0:00:00\u001b[0m\n",
            "\u001b[2K     \u001b[90m━━━━━━━━━━━━━━━━━━━━━━━━━━━━━━━━━━━━━━━━\u001b[0m \u001b[32m300.4/300.4 kB\u001b[0m \u001b[31m19.4 MB/s\u001b[0m eta \u001b[36m0:00:00\u001b[0m\n",
            "\u001b[2K     \u001b[90m━━━━━━━━━━━━━━━━━━━━━━━━━━━━━━━━━━━━━━━━\u001b[0m \u001b[32m49.4/49.4 kB\u001b[0m \u001b[31m5.7 MB/s\u001b[0m eta \u001b[36m0:00:00\u001b[0m\n",
            "\u001b[?25h\u001b[31mERROR: pip's dependency resolver does not currently take into account all the packages that are installed. This behaviour is the source of the following dependency conflicts.\n",
            "llmx 0.0.15a0 requires cohere, which is not installed.\u001b[0m\u001b[31m\n",
            "\u001b[0m"
          ]
        }
      ]
    },
    {
      "cell_type": "code",
      "source": [
        "!cp /content/drive/MyDrive/LLM/env /content/"
      ],
      "metadata": {
        "id": "357b6nJVo45W"
      },
      "execution_count": 4,
      "outputs": []
    },
    {
      "cell_type": "code",
      "source": [
        "import os\n",
        "\n",
        "old_name = r\"/content/env\"\n",
        "new_name = r\"/content/.env\"\n",
        "os.rename(old_name, new_name)"
      ],
      "metadata": {
        "id": "Ww4uefBgC8rv"
      },
      "execution_count": 5,
      "outputs": []
    },
    {
      "cell_type": "code",
      "source": [
        "from dotenv import load_dotenv, find_dotenv\n",
        "\n",
        "load_dotenv(find_dotenv())\n",
        "\n",
        "print(os.environ[\"PINECONE_ENV\"])"
      ],
      "metadata": {
        "colab": {
          "base_uri": "https://localhost:8080/"
        },
        "id": "ug371C7ApSKm",
        "outputId": "3460e966-a5e0-4996-f1c5-e115f3142c4d"
      },
      "execution_count": 6,
      "outputs": [
        {
          "output_type": "stream",
          "name": "stdout",
          "text": [
            "gcp-starter\n"
          ]
        }
      ]
    },
    {
      "cell_type": "markdown",
      "source": [
        "### Actual Business"
      ],
      "metadata": {
        "id": "mtYPVYZ-lOOO"
      }
    },
    {
      "cell_type": "code",
      "source": [
        "!pip install pypdf -q\n",
        "!pip install docx2txt -q\n",
        "!pip install wikipedia -q"
      ],
      "metadata": {
        "colab": {
          "base_uri": "https://localhost:8080/"
        },
        "id": "KLQ_4EWUJVGV",
        "outputId": "f5286977-4a1e-434b-c6d2-e91a9b3c9fcd"
      },
      "execution_count": 31,
      "outputs": [
        {
          "output_type": "stream",
          "name": "stdout",
          "text": [
            "  Preparing metadata (setup.py) ... \u001b[?25l\u001b[?25hdone\n",
            "  Building wheel for wikipedia (setup.py) ... \u001b[?25l\u001b[?25hdone\n"
          ]
        }
      ]
    },
    {
      "cell_type": "code",
      "source": [
        "def load_document(file):\n",
        "  import os\n",
        "  name, extension = os.path.splitext(file)\n",
        "\n",
        "  if extension == '.pdf':\n",
        "    from langchain.document_loaders import PyPDFLoader\n",
        "    print(f'Loading {file}')\n",
        "    loader = PyPDFLoader(file)\n",
        "  elif extension == '.docx':\n",
        "    from langchain.document_loaders import Docx2txtLoader\n",
        "    print(f'Loading {file}')\n",
        "    loader = Docx2txtLoader(file)\n",
        "  else:\n",
        "    print(f'{extension} is not supported yet')\n",
        "    return None\n",
        "\n",
        "  data = loader.load()\n",
        "  return data\n",
        "\n",
        "# wikipedia\n",
        "def load_from_wikipedia(query, lang='en', load_max_docs=2):\n",
        "  from langchain.document_loaders import WikipediaLoader\n",
        "  loader = WikipediaLoader(query = query, lang= lang, load_max_docs=load_max_docs)\n",
        "  data = loader.load()\n",
        "  return data\n"
      ],
      "metadata": {
        "id": "ivfcYlYRJf7M"
      },
      "execution_count": 32,
      "outputs": []
    },
    {
      "cell_type": "code",
      "source": [
        "# @markdown ---\n",
        "# @markdown ### Enter a file path:\n",
        "filePath = \"/content/drive/MyDrive/LLM/Constitution of Bharat.pdf\" # @param {type:\"string\"}\n",
        "# @markdown ---\n",
        "\n",
        "data = load_document(filePath)\n",
        "\n",
        "print(f'You have {len(data)} pages in your data')\n",
        "print(f'{data[0].page_content}')"
      ],
      "metadata": {
        "colab": {
          "base_uri": "https://localhost:8080/"
        },
        "id": "YrCD3_tUKKx5",
        "outputId": "06ad271f-f960-404f-c2ab-df30d8613159"
      },
      "execution_count": 30,
      "outputs": [
        {
          "output_type": "stream",
          "name": "stdout",
          "text": [
            "Loading /content/drive/MyDrive/LLM/Constitution of Bharat.pdf\n",
            "You have 404 pages in your data\n",
            " \n",
            " \n",
            " \n",
            " \n",
            " \n",
            " THE CONSTITUTION OF INDIA \n",
            "[As on       May , 2022] \n",
            "2022 \n",
            " \n"
          ]
        }
      ]
    },
    {
      "cell_type": "code",
      "source": [
        "# Directly from wikipedia and its definitly not from gpt since at this time gpt is trained on till 2021 data and this wikipedia has been created on Mar 2023\n",
        "data = load_from_wikipedia('2023 Asia Cup final', 'mr')\n",
        "print(data[0].page_content)"
      ],
      "metadata": {
        "colab": {
          "base_uri": "https://localhost:8080/"
        },
        "id": "hX-V8rUaSu-I",
        "outputId": "4b20b802-a937-44b2-d253-c36baf6523c7"
      },
      "execution_count": 37,
      "outputs": [
        {
          "output_type": "stream",
          "name": "stdout",
          "text": [
            "२०२२ आशिया चषक (प्रायोजकत्वाच्या कारणास्तव डीपी वर्ल्ड आशिया कप म्हणूनही ओळखला जातो)  आशिया चषक क्रिकेट स्पर्धेची १५ वी आवृत्ती होती, ज्याचे सामने ऑगस्ट आणि सप्टेंबर २०२२ दरम्यान संयुक्त अरब अमिरातीमध्ये, आंतरराष्ट्रीय ट्वेंटी२० (T20I) म्हणून खेळले गेले.  सदर स्पर्धा मूलतः सप्टेंबर २०२० मध्ये होणार होती, कोविड-19 साथीच्या आजारामुळे ही स्पर्धा पुढे ढकलण्याचा निर्णय जुलै २०२० मध्ये घेण्यात आला. त्यावेळी स्पर्धा २०२१ मध्ये श्रीलंकेत आयोजित करण्याचे ठरले,  परंतु त्यानंतर ती पुन्हा एकदा पुढे ढकलण्यात आली.  २०२२ च्या आवृत्तीचे यजमानपद राखून ठेवल्यानंतर पाकिस्तानने या स्पर्धेचे यजमानपद भूषवले होते.  तथापि, ऑक्टोबर २०२१ मध्ये, आशियाई क्रिकेट परिषद ने घोषणा केली की २०२२ मध्ये श्रीलंका स्पर्धेचे आयोजन करेल,  पाकिस्तान २०२३ आवृत्तीचे आयोजन करेल. २१ जुलै २०२२ रोजी, श्रीलंका क्रिकेट ने आशियाई क्रिकेट परिषद ला कळवले की ते देशातील आर्थिक आणि राजकीय संकटामुळे स्पर्धेचे आयोजन करण्याच्या स्थितीत नसतील.   २७ जुलै २०२२ रोजी, आशियाई क्रिकेट परिषद ने पुष्टी केली की ही स्पर्धा संयुक्त अरब अमिरातीमध्ये खेळली जाईल,  श्रीलंका क्रिकेट स्पर्धेचे यजमान म्हणून काम करेल.  स्पर्धेचे सामने २ ऑगस्ट २०२२ रोजी जाहीर करण्यात आले. गतविजेता भारत ह्या आवृत्तीच्या सुपर फोर टप्प्यामधून स्पर्धेबाहेर पडला. अंतिम सामन्यात श्रीलंकेने पाकिस्तानचा २३ धावांनी पराभव करून, त्यांचे आशिया चषक स्पर्धेतील सहावे आणि  आंतरराष्ट्रीय ट्वेंटी२० प्रकारातील पहिले विजेतेपद मिळविले.\n",
            "\n",
            "\n",
            "== पार्श्वभूमी ==\n",
            "डिसेंबर २०१८ मध्ये, पाकिस्तान क्रिकेट बोर्ड ला आशियाई क्रिकेट परिषदेने स्पर्धेचे आयोजन करण्याचे अधिकार दिले होते.  मात्र, हे सामने पाकिस्तानात खेळवले जातील की संयुक्त अरब अमिरातीत हे स्पष्ट झाले नाही.  ही घोषणा झाल्यानंतर, भारतीय क्रिकेट नियामक मंडळाने चालू असलेल्या सुरक्षा चिंतेमुळे पीसीबीने कार्यक्रमाचे ठिकाण बदलण्याची विनंती केली.  पाकिस्तानने शेवटची बहु-सांघिक आंतरराष्ट्रीय स्पर्धा २००८ मध्ये आयोजित केली होती, 2008 आशिया चषक .  तेव्हापासून, 2009 मध्ये श्रीलंका राष्ट्रीय क्रिकेट संघावर झालेल्या हल्ल्यानंतर पाकिस्तानमध्ये मोजकेच आंतरराष्ट्रीय सामने झाले आहेत. मे २०१९ मध्ये, आशियाई क्रिकेट परिषद ने पुष्टी केली की पाकिस्तान या स्पर्धेचे आयोजन करेल.   पाकिस्तानमध्ये या स्पर्धेचे आयोजन करण्याच्या निर्णयामुळे दोन्ही देशांदरम्यान सुरू असलेल्या राजकीय तणावाबरोबरच भारताच्या सहभागावर शंका निर्माण झाली होती.  ऑक्टोबर २०१९ मध्ये, भारताच्या सहभागावर शंका उपस्थित झाल्यामुळे, पाकिस्तानमध्ये स्पर्धेचे आयोजन करण्याचा निर्णय अद्याप एसीसीने मान्य केला होता.  जानेवारी २०२० मध्ये, भारतासोबत सुरू असलेल्या राजकीय तणावामुळे पाकिस्तान या स्पर्धेचे यजमानपद भूषवणार नसल्याचा अहवाल विविध वृत्तपत्रांनी दिला. २८ फेब्रुवारी २०२० रोजी, बीसीसीआयचे अध्यक्ष सौरव गांगुली यांनी सांगितले की \"आशिया कप दुबईमध्ये आयोजित केला जाईल आणि भारत आणि पाकिस्तान दोन्ही खेळतील.\"   दुसऱ्या दिवशी, पीसीबीचे अध्यक्ष एहसान मणी यांनी गांगुलीच्या विधानाचे खंडन केले आणि ते म्हणाले की स्थळ निश्चित झालेले नाही.   सुरुवातीला, स्पर्धेच्या स्थानावर चर्चा करण्यासाठी आशियाई क्रिकेट परिषद ची ३ मार्च २०२० रोजी बैठक होणार होती,   परंतु कोविड-19 साथीच्या आजारामुळे मार्च अखेरपर्यंत बैठक परत हलवण्यात आली.  ७ मार्च रोजी, मणी म्हणाले की ही स्पर्धा तटस्थ ठिकाणी खेळवली जाईल.  पुढच्या महिन्यात, त्याने कबूल केले की साथीच्या रोगामुळे स्पर्धा अजिबात होणार नाही. जून २०२० मध्ये, आशियाई क्रिकेट परिषद सोबत झालेल्या बैठकीनंतर, PCB ने सांगितले की ते श्रीलंकेला स्पर्धेचे यजमानपद देण्यास इच्छुक आहेत,  भारत पाकिस्तानला जाण्यास तयार नाही.  \"COVID-१९ साथीच्या रोगाचा प्रभाव आणि परिणाम लक्षात घेऊन, आशिया चषक २०२० च्या संभाव्य ठिकाणाच्या पर्यायांवर चर्चा करण्यात आली आणि योग्य वेळी अंतिम निर्णय घेण्याचा निर्णय घेण्यात आला\" असे या बैठकीनंतर आशियाई क्रिकेट परिषद ने एक प्रेस रिलीज जारी केले.  जुलै २०२० मध्ये, आशियाई क्रिकेट परिषद द्वारे पुढे ढकलण्याची अधिकृत घोषणा करण्यात आली.  मार्च २०२१ मध्ये, जूनमध्ये प्रस्तावित तारखांशी संघर्ष झालेल्या जागतिक कसोटी चॅम्पियनशिपच्या अंतिम फेरीसाठी भारत पात्र ठरल्यानंतर ही स्पर्धा आणखी पुढे ढकलण्याचा धोका होता. \n",
            "जुलै २०२० मध्ये पात्रता स्पर्धा पुढे ढकलण्यात आली होती.  मे २०२१ मध्ये, आशियाई क्रिकेट परिषद ने पुष्टी केली की २०२१ मध्ये आशिया चषक होणार नाही, टूर्नामेंटची ती आवृत्ती २०२३ पर्यंत पुढे ढकलण्यात आली.  ऑक्टोबर २०२१ मध्ये, आशियाई क्रिकेट परिषद सोब\n"
          ]
        }
      ]
    },
    {
      "cell_type": "code",
      "source": [],
      "metadata": {
        "id": "gXzGCP6TVs0f"
      },
      "execution_count": null,
      "outputs": []
    }
  ]
}