{
  "nbformat": 4,
  "nbformat_minor": 0,
  "metadata": {
    "colab": {
      "provenance": [],
      "authorship_tag": "ABX9TyNE06rd+OzQF0R708BLhxfz",
      "include_colab_link": true
    },
    "kernelspec": {
      "name": "python3",
      "display_name": "Python 3"
    },
    "language_info": {
      "name": "python"
    }
  },
  "cells": [
    {
      "cell_type": "markdown",
      "metadata": {
        "id": "view-in-github",
        "colab_type": "text"
      },
      "source": [
        "<a href=\"https://colab.research.google.com/github/parthdasawant/LLM-Pinecone-OpenAI/blob/main/QnA_app_for_custom_doc.ipynb\" target=\"_parent\"><img src=\"https://colab.research.google.com/assets/colab-badge.svg\" alt=\"Open In Colab\"/></a>"
      ]
    },
    {
      "cell_type": "markdown",
      "source": [
        "#### Setup"
      ],
      "metadata": {
        "id": "RKoMAC5BvbZg"
      }
    },
    {
      "cell_type": "code",
      "source": [
        "from google.colab import drive\n",
        "drive.mount('/content/drive')"
      ],
      "metadata": {
        "colab": {
          "base_uri": "https://localhost:8080/"
        },
        "id": "7RaH3MgvoBfM",
        "outputId": "e0587ae3-cd0b-4038-b091-9004b9ab4b5f"
      },
      "execution_count": 2,
      "outputs": [
        {
          "output_type": "stream",
          "name": "stdout",
          "text": [
            "Drive already mounted at /content/drive; to attempt to forcibly remount, call drive.mount(\"/content/drive\", force_remount=True).\n"
          ]
        }
      ]
    },
    {
      "cell_type": "code",
      "source": [
        "!pip install -r /content/drive/MyDrive/LLM/requirements.txt -q"
      ],
      "metadata": {
        "id": "ZFLNSujToyiv"
      },
      "execution_count": 3,
      "outputs": []
    },
    {
      "cell_type": "code",
      "source": [
        "!cp /content/drive/MyDrive/LLM/env /content/"
      ],
      "metadata": {
        "id": "357b6nJVo45W"
      },
      "execution_count": 4,
      "outputs": []
    },
    {
      "cell_type": "code",
      "source": [
        "import os\n",
        "\n",
        "old_name = r\"/content/env\"\n",
        "new_name = r\"/content/.env\"\n",
        "os.rename(old_name, new_name)"
      ],
      "metadata": {
        "id": "Ww4uefBgC8rv"
      },
      "execution_count": 5,
      "outputs": []
    },
    {
      "cell_type": "code",
      "source": [
        "from dotenv import load_dotenv, find_dotenv\n",
        "\n",
        "load_dotenv(find_dotenv())\n",
        "\n",
        "print(os.environ[\"PINECONE_ENV\"])"
      ],
      "metadata": {
        "colab": {
          "base_uri": "https://localhost:8080/"
        },
        "id": "ug371C7ApSKm",
        "outputId": "5fe214ac-2bf6-4a85-f762-5203d5ebf3b7"
      },
      "execution_count": 6,
      "outputs": [
        {
          "output_type": "stream",
          "name": "stdout",
          "text": [
            "gcp-starter\n"
          ]
        }
      ]
    },
    {
      "cell_type": "markdown",
      "source": [
        "### Actual Business"
      ],
      "metadata": {
        "id": "mtYPVYZ-lOOO"
      }
    },
    {
      "cell_type": "code",
      "source": [
        "!pip install pypdf -q\n",
        "!pip install docx2txt -q\n",
        "!pip install wikipedia -q"
      ],
      "metadata": {
        "id": "KLQ_4EWUJVGV"
      },
      "execution_count": 7,
      "outputs": []
    },
    {
      "cell_type": "code",
      "source": [
        "def load_document(file):\n",
        "  import os\n",
        "  name, extension = os.path.splitext(file)\n",
        "\n",
        "  if extension == '.pdf':\n",
        "    from langchain.document_loaders import PyPDFLoader\n",
        "    print(f'Loading {file}')\n",
        "    loader = PyPDFLoader(file)\n",
        "  elif extension == '.docx':\n",
        "    from langchain.document_loaders import Docx2txtLoader\n",
        "    print(f'Loading {file}')\n",
        "    loader = Docx2txtLoader(file)\n",
        "  else:\n",
        "    print(f'{extension} is not supported yet')\n",
        "    return None\n",
        "\n",
        "  data = loader.load()\n",
        "  return data\n",
        "\n",
        "# wikipedia\n",
        "def load_from_wikipedia(query, lang='en', load_max_docs=2):\n",
        "  from langchain.document_loaders import WikipediaLoader\n",
        "  loader = WikipediaLoader(query = query, lang= lang, load_max_docs=load_max_docs)\n",
        "  data = loader.load()\n",
        "  return data\n"
      ],
      "metadata": {
        "id": "ivfcYlYRJf7M"
      },
      "execution_count": 8,
      "outputs": []
    },
    {
      "cell_type": "code",
      "source": [
        "def chunk_data(data, chunk_size = 256):\n",
        "  from langchain.text_splitter import RecursiveCharacterTextSplitter\n",
        "  text_splitter = RecursiveCharacterTextSplitter(chunk_size = chunk_size, chunk_overlap = 0)\n",
        "  chunks = text_splitter.split_documents(data)\n",
        "  return chunks\n"
      ],
      "metadata": {
        "id": "jnhQ0jDZsGd9"
      },
      "execution_count": 9,
      "outputs": []
    },
    {
      "cell_type": "code",
      "source": [
        "def print_embedding_cost(texts):\n",
        "  import tiktoken\n",
        "  enc = tiktoken.encoding_for_model('text-embedding-ada-002')\n",
        "  total_tokens = sum([len(enc.encode(page.page_content)) for page in texts])\n",
        "  print(f'Total Tokens: {total_tokens}')\n",
        "  print(f'Embedding Cost in USD: {total_tokens/1000 * 0.0004:.6f}')\n"
      ],
      "metadata": {
        "id": "_HylscmZtAUp"
      },
      "execution_count": 10,
      "outputs": []
    },
    {
      "cell_type": "markdown",
      "source": [
        "Embedding & uplaoding to vector database (Pinecone)"
      ],
      "metadata": {
        "id": "gRjQmUcRucJv"
      }
    },
    {
      "cell_type": "code",
      "source": [
        "def insert_or_fetch_embbedings(index_name):\n",
        "  import pinecone\n",
        "  from langchain.vectorstores import Pinecone\n",
        "  from langchain.embeddings.openai import OpenAIEmbeddings\n",
        "\n",
        "  embeddings = OpenAIEmbeddings()\n",
        "\n",
        "  pinecone.init(api_key = os.environ.get('PINECONE_API_KEY'), environment = os.environ.get('PINECONE_ENV'))\n",
        "\n",
        "  if index_name in pinecone.list_indexes():\n",
        "    print(f'Index {index_name} already exists. Loading embeddings ... ')\n",
        "    vector_store = Pinecone.from_existing_index(index_name, embeddings)\n",
        "    print('OK')\n",
        "  else:\n",
        "    print(f'Creating index {index_name} and embeddings ...')\n",
        "    pinecone.create_index(index_name, dimension = 1536, metric = 'cosine')\n",
        "    vector_store = Pinecone.from_documents(chunks, embeddings, index_name = index_name)\n",
        "    print('OK')\n",
        "\n",
        "  return vector_store"
      ],
      "metadata": {
        "id": "XSKKaFXlwr2M"
      },
      "execution_count": 11,
      "outputs": []
    },
    {
      "cell_type": "code",
      "source": [
        "def delete_pinecone_index(index_name = 'all'):\n",
        "  import pinecone\n",
        "  pinecone.init(api_key = os.environ.get('PINECONE_API_KEY'), environment = os.environ.get('PINECONE_ENV'))\n",
        "\n",
        "  if index_name == 'all':\n",
        "    indexes = pinecone.list_indexes()\n",
        "    print('Deleting all indexes')\n",
        "    for index in indexes:\n",
        "      pinecone.delete_index(index)\n",
        "    print('OK')\n",
        "  else:\n",
        "    print(f'Deleting index {index_name}...', end='')"
      ],
      "metadata": {
        "id": "uc03OE9tuk6m"
      },
      "execution_count": 12,
      "outputs": []
    },
    {
      "cell_type": "markdown",
      "source": [
        "Asking & Getting Answers"
      ],
      "metadata": {
        "id": "8VCjAS_e0ppU"
      }
    },
    {
      "cell_type": "code",
      "source": [
        "from langchain.schema import retriever\n",
        "\n",
        "def ask_and_get_answer(vector_store, q):\n",
        "  from langchain.chains import RetrievalQA\n",
        "  from langchain.chat_models import ChatOpenAI\n",
        "\n",
        "  llm = ChatOpenAI(model = 'gpt-3.5-turbo', temperature =1)\n",
        "\n",
        "  retriever = vector_store.as_retriever(search_type = 'similarity', search_kwargs = {'k': 3})\n",
        "\n",
        "  chain = RetrievalQA.from_chain_type(llm = llm, chain_type='stuff', retriever = retriever)\n",
        "\n",
        "  answer = chain.run(q)\n",
        "\n",
        "  return answer\n",
        "\n",
        "\n",
        "def ask_with_memory(vector_store, question, chat_history=[]):\n",
        "  from langchain.chains import ConversationalRetrievalChain\n",
        "  from langchain.chat_models import ChatOpenAI\n",
        "\n",
        "  llm = ChatOpenAI(temperature = 1)\n",
        "\n",
        "  retriever = vector_store.as_retriever(search_type = 'similarity', search_kwargs = {'k': 3})\n",
        "\n",
        "  crc = ConversationalRetrievalChain.from_llm(llm, retriever)\n",
        "\n",
        "  result = crc({'question': question, 'chat_history': chat_history})\n",
        "  chat_history.append((question, result['answer']))\n",
        "\n",
        "  return result, chat_history\n"
      ],
      "metadata": {
        "id": "OUGXfoW-0vWK"
      },
      "execution_count": 61,
      "outputs": []
    },
    {
      "cell_type": "markdown",
      "source": [
        "Running Code"
      ],
      "metadata": {
        "id": "xLOfhHd-uTEw"
      }
    },
    {
      "cell_type": "code",
      "source": [
        "# @markdown ---\n",
        "# @markdown ### Enter a file path:\n",
        "file_path = \"/content/drive/MyDrive/LLM/Constitution of Bharat.pdf\" # @param {type:\"string\"}\n",
        "# @markdown ---\n",
        "\n",
        "data = load_document(file_path)\n",
        "\n",
        "print(f'You have {len(data)} pages in your data')\n",
        "print(f'{data[0].page_content}')"
      ],
      "metadata": {
        "colab": {
          "base_uri": "https://localhost:8080/"
        },
        "id": "YrCD3_tUKKx5",
        "outputId": "4a580c8f-8299-4d44-d6e0-1bf8e163353e"
      },
      "execution_count": 52,
      "outputs": [
        {
          "output_type": "stream",
          "name": "stdout",
          "text": [
            "Loading /content/drive/MyDrive/LLM/Constitution of Bharat.pdf\n",
            "You have 404 pages in your data\n",
            " \n",
            " \n",
            " \n",
            " \n",
            " \n",
            " THE CONSTITUTION OF INDIA \n",
            "[As on       May , 2022] \n",
            "2022 \n",
            " \n"
          ]
        }
      ]
    },
    {
      "cell_type": "markdown",
      "source": [
        "##### Chunking the data & Testing"
      ],
      "metadata": {
        "id": "DJon_MKK0Iff"
      }
    },
    {
      "cell_type": "code",
      "source": [
        "chunks = chunk_data(data)\n",
        "print(len(data))\n",
        "print(chunks[102].page_content)"
      ],
      "metadata": {
        "colab": {
          "base_uri": "https://localhost:8080/"
        },
        "id": "gXzGCP6TVs0f",
        "outputId": "a8fa0a73-5a81-436b-bb00-dec1f540eb90"
      },
      "execution_count": 53,
      "outputs": [
        {
          "output_type": "stream",
          "name": "stdout",
          "text": [
            "404\n",
            "THE MUNICIPALITIES \n",
            "243P. Definitions. \n",
            "243Q. Constitution of Municipalities. \n",
            "243R. Composition of Municipalities. \n",
            "243S. Constitution and composition of Wards Committees, etc. \n",
            "243T. Reservation of seats. \n",
            "243U. Duration of Municipalities, etc.\n"
          ]
        }
      ]
    },
    {
      "cell_type": "code",
      "source": [
        "print_embedding_cost(chunks)"
      ],
      "metadata": {
        "colab": {
          "base_uri": "https://localhost:8080/"
        },
        "id": "gudlxVeUta-e",
        "outputId": "980638fd-7786-435a-c514-01588c0f9ab6"
      },
      "execution_count": 18,
      "outputs": [
        {
          "output_type": "stream",
          "name": "stdout",
          "text": [
            "Total Tokens: 214890\n",
            "Embedding Cost in USD: 0.085956\n"
          ]
        }
      ]
    },
    {
      "cell_type": "code",
      "source": [
        "delete_pinecone_index()"
      ],
      "metadata": {
        "colab": {
          "base_uri": "https://localhost:8080/"
        },
        "id": "c82x3LDatrXs",
        "outputId": "a34cdd17-3131-492a-d650-7667cbc7b0fd"
      },
      "execution_count": 57,
      "outputs": [
        {
          "output_type": "stream",
          "name": "stdout",
          "text": [
            "Deleting all indexes\n",
            "OK\n"
          ]
        }
      ]
    },
    {
      "cell_type": "code",
      "source": [
        "index_name = 'askadocument'\n",
        "vector_store = insert_or_fetch_embbedings(index_name)"
      ],
      "metadata": {
        "colab": {
          "base_uri": "https://localhost:8080/"
        },
        "id": "Z14UkiBGwqAj",
        "outputId": "fda94986-ffd2-4665-b92a-ccaa31e05bda"
      },
      "execution_count": 58,
      "outputs": [
        {
          "output_type": "stream",
          "name": "stdout",
          "text": [
            "Creating index askadocument and embeddings ...\n"
          ]
        },
        {
          "output_type": "stream",
          "name": "stderr",
          "text": [
            "WARNING:langchain.embeddings.openai:Retrying langchain.embeddings.openai.embed_with_retry.<locals>._embed_with_retry in 4.0 seconds as it raised RateLimitError: Rate limit reached for text-embedding-ada-002 in organization org-nr7yRH1q3Oa5hpW4Jlvfijmc on requests per min. Limit: 3 / min. Please try again in 20s. Visit https://platform.openai.com/account/rate-limits to learn more. You can increase your rate limit by adding a payment method to your account at https://platform.openai.com/account/billing..\n",
            "WARNING:langchain.embeddings.openai:Retrying langchain.embeddings.openai.embed_with_retry.<locals>._embed_with_retry in 4.0 seconds as it raised RateLimitError: Rate limit reached for text-embedding-ada-002 in organization org-nr7yRH1q3Oa5hpW4Jlvfijmc on requests per min. Limit: 3 / min. Please try again in 20s. Visit https://platform.openai.com/account/rate-limits to learn more. You can increase your rate limit by adding a payment method to your account at https://platform.openai.com/account/billing..\n"
          ]
        },
        {
          "output_type": "stream",
          "name": "stdout",
          "text": [
            "OK\n"
          ]
        }
      ]
    },
    {
      "cell_type": "code",
      "source": [
        "q = 'What is the whole document about?'\n",
        "answer = ask_and_get_answer(vector_store, q)\n",
        "print(answer)"
      ],
      "metadata": {
        "colab": {
          "base_uri": "https://localhost:8080/"
        },
        "id": "lo-0KyrJwmDh",
        "outputId": "bc530e1c-d825-4ebe-bd69-1848e3351d2f"
      },
      "execution_count": 22,
      "outputs": [
        {
          "output_type": "stream",
          "name": "stdout",
          "text": [
            "The document is about the Constitution of India, which outlines the fundamental principles, structures, and procedures of the Indian government. It provides a framework for the governance of the country and protects the fundamental rights and freedoms of its citizens.\n"
          ]
        }
      ]
    },
    {
      "cell_type": "code",
      "source": [
        "import time\n",
        "i = 1\n",
        "\n",
        "print('Write Quit or Exit to quit')\n",
        "\n",
        "while True:\n",
        "  q = input(f'Question #{i}: ')\n",
        "  i += 1\n",
        "  if q.lower() in ['quit', 'exit']:\n",
        "    print('Quitting... bye bye')\n",
        "    time.sleep(2)\n",
        "    break\n",
        "  else:\n",
        "    answer = ask_and_get_answer(vector_store, q)\n",
        "    print(f'\\nAnswer: {answer}')\n",
        "    print(f'\\n {\"-\" * 50} \\n')"
      ],
      "metadata": {
        "colab": {
          "base_uri": "https://localhost:8080/"
        },
        "id": "4dM3y6bT2PhL",
        "outputId": "a4921e25-f20e-4a5e-fcba-24f7dab0f8ba"
      },
      "execution_count": 25,
      "outputs": [
        {
          "output_type": "stream",
          "name": "stdout",
          "text": [
            "Write Quit or Exit to quit\n",
            "Question #1: What is the first amendment of the Constitution of India\n",
            "\n",
            "Answer: The first amendment of the Constitution of India was added by the Constitution (First Amendment) Act, 1951. The specific content of the first amendment is not provided in the given context.\n",
            "\n",
            " -------------------------------------------------- \n",
            "\n",
            "Question #2: List the Fundamental Rights\n",
            "\n",
            "Answer: The Fundamental Rights in India are as follows:\n",
            "\n",
            "1. Right to Equality (Article 14-18)\n",
            "- Equality before the law (Article 14)\n",
            "- Prohibition of discrimination on grounds of religion, race, caste, sex or place of birth (Article 15)\n",
            "- Equality of opportunity in matters of public employment (Article 16)\n",
            "- Abolition of Untouchability (Article 17)\n",
            "- Abolition of titles (Article 18)\n",
            "\n",
            "2. Right to Freedom (Article 19-22)\n",
            "- Protection of certain rights regarding freedom of speech, etc. (Article 19)\n",
            "- Protection in respect of conviction for offenses (Article 20)\n",
            "- Protection of life and personal liberty (Article 21)\n",
            "- Protection against arrest and detention in certain cases (Article 22)\n",
            "\n",
            "3. Right against Exploitation (Article 23-24)\n",
            "- Prohibition of traffic in human beings and forced labor (Article 23)\n",
            "- Prohibition of employment of children in factories, etc. (Article 24)\n",
            "\n",
            "4. Right to Freedom of Religion (Article 25-28)\n",
            "- Freedom of conscience and free profession, practice, and propagation of religion (Article 25)\n",
            "- Freedom to manage religious affairs (Article 26)\n",
            "- Freedom from payment of taxes for promotion of any particular religion (Article 27)\n",
            "- Freedom from attending religious instruction or religious worship in certain educational institutions (Article 28)\n",
            "\n",
            "5. Cultural and Educational Rights (Article 29-30)\n",
            "- Protection of interests of minorities (Article 29)\n",
            "- Right of minorities to establish and administer educational institutions (Article 30)\n",
            "\n",
            "6. Right to Constitutional Remedies (Article 32)\n",
            "- Right to move the Supreme Court for the enforcement of Fundamental Rights.\n",
            "\n",
            " -------------------------------------------------- \n",
            "\n",
            "Question #3: explain Cultural and educational rights\n",
            "\n",
            "Answer: Cultural and educational rights refer to the rights of individuals or groups to protect and promote their culture, language, and educational institutions. These rights are typically included in a country's constitution or laws to ensure that all citizens have equal opportunities to preserve and develop their cultural and educational heritage.\n",
            "\n",
            "Cultural rights involve the rights of individuals or communities to practice and express their cultural traditions, languages, and customs without discrimination or interference. This includes the right to preserve and develop their cultural identity, participate in cultural activities, and have access to and enjoy their own cultural heritage.\n",
            "\n",
            "Educational rights, on the other hand, pertain to the right of individuals or groups to education that is accessible, inclusive, and respects their cultural background. This includes the right to establish and administer educational institutions that cater to their specific cultural or linguistic needs. It also protects against discrimination in admission to educational institutions based on cultural or linguistic grounds.\n",
            "\n",
            "Cultural and educational rights are important for fostering diversity, promoting inclusivity, and ensuring the protection and development of minority cultures and languages. They play a crucial role in preserving cultural heritage, promoting cultural understanding and tolerance, and enabling individuals to fully participate in society while maintaining their cultural identity.\n",
            "\n",
            " -------------------------------------------------- \n",
            "\n",
            "Question #4: Q1: How does the Constitution address the issue of Presidential succession? Q2: Describe the bill of rights. Answer both question\n",
            "\n",
            "Answer: The given context does not provide any information about the Constitution's approach to the issue of Presidential succession or the description of the Bill of Rights. Therefore, I cannot answer both of your questions based on the provided context.\n",
            "\n",
            " -------------------------------------------------- \n",
            "\n",
            "Question #5: Q1: what is the article numbers of Right to Equality?  Q2: What is the article number of  Right to Freedom of Religion? answer both questions\n",
            "\n",
            "Answer: Q1: The article number for the Right to Equality is Article 14. \n",
            "Q2: The article number for the Right to Freedom of Religion is not mentioned in the provided context.\n",
            "\n",
            " -------------------------------------------------- \n",
            "\n",
            "Question #6: quit\n",
            "Quitting... bye bye\n"
          ]
        }
      ]
    },
    {
      "cell_type": "code",
      "source": [
        "delete_pinecone_index()"
      ],
      "metadata": {
        "colab": {
          "base_uri": "https://localhost:8080/"
        },
        "id": "RC5jpm5Q6yVc",
        "outputId": "35fd6d78-a03c-4ded-e120-d1e299df9056"
      },
      "execution_count": 51,
      "outputs": [
        {
          "output_type": "stream",
          "name": "stdout",
          "text": [
            "Deleting all indexes\n",
            "OK\n"
          ]
        }
      ]
    },
    {
      "cell_type": "markdown",
      "source": [
        "##### From Wikipedia"
      ],
      "metadata": {
        "id": "cs4gn3Fqz0rB"
      }
    },
    {
      "cell_type": "code",
      "source": [
        "# Directly from wikipedia and its definitly not from gpt since at this time gpt is trained on till 2021 data and this wikipedia has been created on Mar 2023\n",
        "data = load_from_wikipedia('2023 Cricket World Cup', 'mr' )\n",
        "# print(data[0].page_content)\n",
        "chunks = chunk_data(data)\n",
        "index_name = \"asiacup\"\n",
        "vector_store = insert_or_fetch_embbedings(index_name)"
      ],
      "metadata": {
        "colab": {
          "base_uri": "https://localhost:8080/"
        },
        "id": "hX-V8rUaSu-I",
        "outputId": "e01c4f02-c0c2-4834-af8d-9e2be10cefc1"
      },
      "execution_count": 47,
      "outputs": [
        {
          "output_type": "stream",
          "name": "stdout",
          "text": [
            "Creating index asiacup and embeddings ...\n",
            "OK\n"
          ]
        }
      ]
    },
    {
      "cell_type": "code",
      "source": [
        "q = 'या विश्वचषकाचा यजमान देश कोण आहे?'\n",
        "answer = ask_and_get_answer(vector_store, q)\n",
        "print(answer)"
      ],
      "metadata": {
        "colab": {
          "base_uri": "https://localhost:8080/"
        },
        "id": "aClJqM2e7bD6",
        "outputId": "8bbd836b-f59a-4a90-e63b-5ea018672673"
      },
      "execution_count": 49,
      "outputs": [
        {
          "output_type": "stream",
          "name": "stdout",
          "text": [
            "विश्वचषकाच्या आयोजनाचा यजमान देश भारत आहे.\n"
          ]
        }
      ]
    },
    {
      "cell_type": "markdown",
      "source": [
        "##### With Memory"
      ],
      "metadata": {
        "id": "RaFdvyIkAVKB"
      }
    },
    {
      "cell_type": "code",
      "source": [
        "chat_history = []\n",
        "question = 'What is the article number of Right to Constitutional Remedies'\n",
        "result, chat_history = ask_with_memory(vector_store, question, chat_history)\n",
        "print(result['answer'])\n",
        "print(chat_history)"
      ],
      "metadata": {
        "colab": {
          "base_uri": "https://localhost:8080/"
        },
        "id": "yK1P_sGRAahx",
        "outputId": "19805a4a-5c77-4f03-b30b-edfae03c082e"
      },
      "execution_count": 73,
      "outputs": [
        {
          "output_type": "stream",
          "name": "stdout",
          "text": [
            "The article number of the Right to Constitutional Remedies in the Constitution of India is Article 32.\n",
            "[('What is the article number of Right to Constitutional Remedies', 'The article number of the Right to Constitutional Remedies in the Constitution of India is Article 32.')]\n"
          ]
        }
      ]
    },
    {
      "cell_type": "code",
      "source": [
        "question = 'Multiply that article number by 2'\n",
        "result, chat_history = ask_with_memory(vector_store, question, chat_history)\n",
        "print(result['answer'])\n",
        "print(chat_history)"
      ],
      "metadata": {
        "colab": {
          "base_uri": "https://localhost:8080/"
        },
        "id": "_BxFIH06Az8Z",
        "outputId": "c7ec02c1-9afa-49f5-faf5-c3b99ecb2075"
      },
      "execution_count": 74,
      "outputs": [
        {
          "output_type": "stream",
          "name": "stderr",
          "text": [
            "WARNING:langchain.llms.base:Retrying langchain.chat_models.openai.ChatOpenAI.completion_with_retry.<locals>._completion_with_retry in 4.0 seconds as it raised RateLimitError: Rate limit reached for gpt-3.5-turbo in organization org-nr7yRH1q3Oa5hpW4Jlvfijmc on requests per min. Limit: 3 / min. Please try again in 20s. Visit https://platform.openai.com/account/rate-limits to learn more. You can increase your rate limit by adding a payment method to your account at https://platform.openai.com/account/billing..\n",
            "WARNING:langchain.llms.base:Retrying langchain.chat_models.openai.ChatOpenAI.completion_with_retry.<locals>._completion_with_retry in 4.0 seconds as it raised RateLimitError: Rate limit reached for gpt-3.5-turbo in organization org-nr7yRH1q3Oa5hpW4Jlvfijmc on requests per min. Limit: 3 / min. Please try again in 20s. Visit https://platform.openai.com/account/rate-limits to learn more. You can increase your rate limit by adding a payment method to your account at https://platform.openai.com/account/billing..\n"
          ]
        },
        {
          "output_type": "stream",
          "name": "stdout",
          "text": [
            "The result when you multiply the article number of the Right to Constitutional Remedies (Article 32) by 2 is 64.\n",
            "[('What is the article number of Right to Constitutional Remedies', 'The article number of the Right to Constitutional Remedies in the Constitution of India is Article 32.'), ('Multiply that article number by 2', 'The result when you multiply the article number of the Right to Constitutional Remedies (Article 32) by 2 is 64.')]\n"
          ]
        }
      ]
    }
  ]
}